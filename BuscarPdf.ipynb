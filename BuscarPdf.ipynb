{
 "cells": [
  {
   "cell_type": "code",
   "execution_count": 2,
   "id": "6ff39f3a-a1f4-4fc7-bfb8-c23ada005134",
   "metadata": {},
   "outputs": [],
   "source": [
    "import fitz\n",
    "from PIL import Image"
   ]
  },
  {
   "cell_type": "code",
   "execution_count": 10,
   "id": "bf231b36-0a4a-4aa4-913f-f8e7a791ba0a",
   "metadata": {},
   "outputs": [
    {
     "name": "stdout",
     "output_type": "stream",
     "text": [
      "nome encontrado pna pagina numero:[1]\n",
      "page 1 of Impressão-de-Boletos-MODELO.pdf\n",
      "Novo documento salvo como Boleto.pdf\n"
     ]
    }
   ],
   "source": [
    "#abrir documento\n",
    "doc = fitz.open(\"Impressão-de-Boletos-MODELO.pdf\")\n",
    "\n",
    "#mostrar texto \n",
    "for page in doc:\n",
    "    text = page.get_text()\n",
    " \n",
    "\n",
    "def buscarNome(nome):\n",
    "    paginaComNome = []\n",
    "    for pagina in range(doc.page_count):\n",
    "        textoPaginaAtual = doc[pagina].get_text()\n",
    "        if nome in textoPaginaAtual:\n",
    "            paginaComNome.append(pagina)\n",
    "    return paginaComNome\n",
    "\n",
    "\n",
    "def SalvarPagina (nome):\n",
    "    if paginaComNome is not None:\n",
    "        novoDocumento = fitz.open()\n",
    "        #adicionar a pagina encontrada ao novo documento\n",
    "        for p in paginaComNome:\n",
    "            paginaEncontrada = doc.load_page(p)\n",
    "            imagemTempo = paginaEncontrada.get_pixmap()\n",
    "            print(paginaEncontrada)\n",
    "\n",
    "            novaPagina = novoDocumento.new_page(width=paginaEncontrada.rect.width, height=paginaEncontrada.rect.height)\n",
    "            retangulo_destino = fitz.Rect(0, 0, paginaEncontrada.rect.width, paginaEncontrada.rect.height)\n",
    "            novaPagina.insert_image(retangulo_destino, pixmap=imagemTempo)\n",
    "        \n",
    "        #salvar novo documento\n",
    "        novoDocumento.save('Boleto.pdf')\n",
    "        doc.close()\n",
    "        novoDocumento.close()\n",
    "        print(\"Novo documento salvo como Boleto.pdf\")\n",
    "    else:\n",
    "        print(\"Nenhuma página encontrada com o nome especificado.\")\n",
    "\n",
    "paginaComNome = buscarNome('GUILHERME DIANGELIS GOMES')\n",
    "print(f\"nome encontrado pna pagina numero:{paginaComNome}\")\n",
    "SalvarPagina(paginaComNome)"
   ]
  },
  {
   "cell_type": "code",
   "execution_count": null,
   "id": "d993acc9-35d6-4245-ab29-4089abb887f4",
   "metadata": {},
   "outputs": [],
   "source": []
  }
 ],
 "metadata": {
  "kernelspec": {
   "display_name": "Python 3 (ipykernel)",
   "language": "python",
   "name": "python3"
  },
  "language_info": {
   "codemirror_mode": {
    "name": "ipython",
    "version": 3
   },
   "file_extension": ".py",
   "mimetype": "text/x-python",
   "name": "python",
   "nbconvert_exporter": "python",
   "pygments_lexer": "ipython3",
   "version": "3.12.0"
  }
 },
 "nbformat": 4,
 "nbformat_minor": 5
}
